{
 "cells": [
  {
   "cell_type": "code",
   "execution_count": 3,
   "metadata": {},
   "outputs": [],
   "source": [
    "import pandas as pd\n",
    "import numpy as np\n",
    "import seaborn as sns\n",
    "import matplotlib.pyplot as plt\n",
    "from sklearn.linear_model import LogisticRegression"
   ]
  },
  {
   "cell_type": "code",
   "execution_count": 5,
   "metadata": {},
   "outputs": [],
   "source": [
    "df = pd.read_csv('diabetes.csv')"
   ]
  },
  {
   "cell_type": "code",
   "execution_count": 6,
   "metadata": {},
   "outputs": [
    {
     "data": {
      "text/html": [
       "<div>\n",
       "<style scoped>\n",
       "    .dataframe tbody tr th:only-of-type {\n",
       "        vertical-align: middle;\n",
       "    }\n",
       "\n",
       "    .dataframe tbody tr th {\n",
       "        vertical-align: top;\n",
       "    }\n",
       "\n",
       "    .dataframe thead th {\n",
       "        text-align: right;\n",
       "    }\n",
       "</style>\n",
       "<table border=\"1\" class=\"dataframe\">\n",
       "  <thead>\n",
       "    <tr style=\"text-align: right;\">\n",
       "      <th></th>\n",
       "      <th>Pregnancies</th>\n",
       "      <th>Glucose</th>\n",
       "      <th>BloodPressure</th>\n",
       "      <th>SkinThickness</th>\n",
       "      <th>Insulin</th>\n",
       "      <th>BMI</th>\n",
       "      <th>DiabetesPedigreeFunction</th>\n",
       "      <th>Age</th>\n",
       "      <th>Outcome</th>\n",
       "    </tr>\n",
       "  </thead>\n",
       "  <tbody>\n",
       "    <tr>\n",
       "      <th>0</th>\n",
       "      <td>6</td>\n",
       "      <td>148</td>\n",
       "      <td>72</td>\n",
       "      <td>35</td>\n",
       "      <td>0</td>\n",
       "      <td>33.6</td>\n",
       "      <td>0.627</td>\n",
       "      <td>50</td>\n",
       "      <td>1</td>\n",
       "    </tr>\n",
       "    <tr>\n",
       "      <th>1</th>\n",
       "      <td>1</td>\n",
       "      <td>85</td>\n",
       "      <td>66</td>\n",
       "      <td>29</td>\n",
       "      <td>0</td>\n",
       "      <td>26.6</td>\n",
       "      <td>0.351</td>\n",
       "      <td>31</td>\n",
       "      <td>0</td>\n",
       "    </tr>\n",
       "    <tr>\n",
       "      <th>2</th>\n",
       "      <td>8</td>\n",
       "      <td>183</td>\n",
       "      <td>64</td>\n",
       "      <td>0</td>\n",
       "      <td>0</td>\n",
       "      <td>23.3</td>\n",
       "      <td>0.672</td>\n",
       "      <td>32</td>\n",
       "      <td>1</td>\n",
       "    </tr>\n",
       "    <tr>\n",
       "      <th>3</th>\n",
       "      <td>1</td>\n",
       "      <td>89</td>\n",
       "      <td>66</td>\n",
       "      <td>23</td>\n",
       "      <td>94</td>\n",
       "      <td>28.1</td>\n",
       "      <td>0.167</td>\n",
       "      <td>21</td>\n",
       "      <td>0</td>\n",
       "    </tr>\n",
       "    <tr>\n",
       "      <th>4</th>\n",
       "      <td>0</td>\n",
       "      <td>137</td>\n",
       "      <td>40</td>\n",
       "      <td>35</td>\n",
       "      <td>168</td>\n",
       "      <td>43.1</td>\n",
       "      <td>2.288</td>\n",
       "      <td>33</td>\n",
       "      <td>1</td>\n",
       "    </tr>\n",
       "    <tr>\n",
       "      <th>...</th>\n",
       "      <td>...</td>\n",
       "      <td>...</td>\n",
       "      <td>...</td>\n",
       "      <td>...</td>\n",
       "      <td>...</td>\n",
       "      <td>...</td>\n",
       "      <td>...</td>\n",
       "      <td>...</td>\n",
       "      <td>...</td>\n",
       "    </tr>\n",
       "    <tr>\n",
       "      <th>763</th>\n",
       "      <td>10</td>\n",
       "      <td>101</td>\n",
       "      <td>76</td>\n",
       "      <td>48</td>\n",
       "      <td>180</td>\n",
       "      <td>32.9</td>\n",
       "      <td>0.171</td>\n",
       "      <td>63</td>\n",
       "      <td>0</td>\n",
       "    </tr>\n",
       "    <tr>\n",
       "      <th>764</th>\n",
       "      <td>2</td>\n",
       "      <td>122</td>\n",
       "      <td>70</td>\n",
       "      <td>27</td>\n",
       "      <td>0</td>\n",
       "      <td>36.8</td>\n",
       "      <td>0.340</td>\n",
       "      <td>27</td>\n",
       "      <td>0</td>\n",
       "    </tr>\n",
       "    <tr>\n",
       "      <th>765</th>\n",
       "      <td>5</td>\n",
       "      <td>121</td>\n",
       "      <td>72</td>\n",
       "      <td>23</td>\n",
       "      <td>112</td>\n",
       "      <td>26.2</td>\n",
       "      <td>0.245</td>\n",
       "      <td>30</td>\n",
       "      <td>0</td>\n",
       "    </tr>\n",
       "    <tr>\n",
       "      <th>766</th>\n",
       "      <td>1</td>\n",
       "      <td>126</td>\n",
       "      <td>60</td>\n",
       "      <td>0</td>\n",
       "      <td>0</td>\n",
       "      <td>30.1</td>\n",
       "      <td>0.349</td>\n",
       "      <td>47</td>\n",
       "      <td>1</td>\n",
       "    </tr>\n",
       "    <tr>\n",
       "      <th>767</th>\n",
       "      <td>1</td>\n",
       "      <td>93</td>\n",
       "      <td>70</td>\n",
       "      <td>31</td>\n",
       "      <td>0</td>\n",
       "      <td>30.4</td>\n",
       "      <td>0.315</td>\n",
       "      <td>23</td>\n",
       "      <td>0</td>\n",
       "    </tr>\n",
       "  </tbody>\n",
       "</table>\n",
       "<p>768 rows × 9 columns</p>\n",
       "</div>"
      ],
      "text/plain": [
       "     Pregnancies  Glucose  BloodPressure  SkinThickness  Insulin   BMI  \\\n",
       "0              6      148             72             35        0  33.6   \n",
       "1              1       85             66             29        0  26.6   \n",
       "2              8      183             64              0        0  23.3   \n",
       "3              1       89             66             23       94  28.1   \n",
       "4              0      137             40             35      168  43.1   \n",
       "..           ...      ...            ...            ...      ...   ...   \n",
       "763           10      101             76             48      180  32.9   \n",
       "764            2      122             70             27        0  36.8   \n",
       "765            5      121             72             23      112  26.2   \n",
       "766            1      126             60              0        0  30.1   \n",
       "767            1       93             70             31        0  30.4   \n",
       "\n",
       "     DiabetesPedigreeFunction  Age  Outcome  \n",
       "0                       0.627   50        1  \n",
       "1                       0.351   31        0  \n",
       "2                       0.672   32        1  \n",
       "3                       0.167   21        0  \n",
       "4                       2.288   33        1  \n",
       "..                        ...  ...      ...  \n",
       "763                     0.171   63        0  \n",
       "764                     0.340   27        0  \n",
       "765                     0.245   30        0  \n",
       "766                     0.349   47        1  \n",
       "767                     0.315   23        0  \n",
       "\n",
       "[768 rows x 9 columns]"
      ]
     },
     "execution_count": 6,
     "metadata": {},
     "output_type": "execute_result"
    }
   ],
   "source": [
    "df"
   ]
  },
  {
   "cell_type": "code",
   "execution_count": 7,
   "metadata": {},
   "outputs": [
    {
     "name": "stdout",
     "output_type": "stream",
     "text": [
      "<class 'pandas.core.frame.DataFrame'>\n",
      "RangeIndex: 768 entries, 0 to 767\n",
      "Data columns (total 9 columns):\n",
      " #   Column                    Non-Null Count  Dtype  \n",
      "---  ------                    --------------  -----  \n",
      " 0   Pregnancies               768 non-null    int64  \n",
      " 1   Glucose                   768 non-null    int64  \n",
      " 2   BloodPressure             768 non-null    int64  \n",
      " 3   SkinThickness             768 non-null    int64  \n",
      " 4   Insulin                   768 non-null    int64  \n",
      " 5   BMI                       768 non-null    float64\n",
      " 6   DiabetesPedigreeFunction  768 non-null    float64\n",
      " 7   Age                       768 non-null    int64  \n",
      " 8   Outcome                   768 non-null    int64  \n",
      "dtypes: float64(2), int64(7)\n",
      "memory usage: 54.1 KB\n"
     ]
    }
   ],
   "source": [
    "df.info()"
   ]
  },
  {
   "cell_type": "code",
   "execution_count": 9,
   "metadata": {},
   "outputs": [
    {
     "data": {
      "text/html": [
       "<div>\n",
       "<style scoped>\n",
       "    .dataframe tbody tr th:only-of-type {\n",
       "        vertical-align: middle;\n",
       "    }\n",
       "\n",
       "    .dataframe tbody tr th {\n",
       "        vertical-align: top;\n",
       "    }\n",
       "\n",
       "    .dataframe thead th {\n",
       "        text-align: right;\n",
       "    }\n",
       "</style>\n",
       "<table border=\"1\" class=\"dataframe\">\n",
       "  <thead>\n",
       "    <tr style=\"text-align: right;\">\n",
       "      <th></th>\n",
       "      <th>Pregnancies</th>\n",
       "      <th>Glucose</th>\n",
       "      <th>BloodPressure</th>\n",
       "      <th>SkinThickness</th>\n",
       "      <th>Insulin</th>\n",
       "      <th>BMI</th>\n",
       "      <th>DiabetesPedigreeFunction</th>\n",
       "      <th>Age</th>\n",
       "      <th>Outcome</th>\n",
       "    </tr>\n",
       "  </thead>\n",
       "  <tbody>\n",
       "    <tr>\n",
       "      <th>Pregnancies</th>\n",
       "      <td>1.000000</td>\n",
       "      <td>0.129459</td>\n",
       "      <td>0.141282</td>\n",
       "      <td>-0.081672</td>\n",
       "      <td>-0.073535</td>\n",
       "      <td>0.017683</td>\n",
       "      <td>-0.033523</td>\n",
       "      <td>0.544341</td>\n",
       "      <td>0.221898</td>\n",
       "    </tr>\n",
       "    <tr>\n",
       "      <th>Glucose</th>\n",
       "      <td>0.129459</td>\n",
       "      <td>1.000000</td>\n",
       "      <td>0.152590</td>\n",
       "      <td>0.057328</td>\n",
       "      <td>0.331357</td>\n",
       "      <td>0.221071</td>\n",
       "      <td>0.137337</td>\n",
       "      <td>0.263514</td>\n",
       "      <td>0.466581</td>\n",
       "    </tr>\n",
       "    <tr>\n",
       "      <th>BloodPressure</th>\n",
       "      <td>0.141282</td>\n",
       "      <td>0.152590</td>\n",
       "      <td>1.000000</td>\n",
       "      <td>0.207371</td>\n",
       "      <td>0.088933</td>\n",
       "      <td>0.281805</td>\n",
       "      <td>0.041265</td>\n",
       "      <td>0.239528</td>\n",
       "      <td>0.065068</td>\n",
       "    </tr>\n",
       "    <tr>\n",
       "      <th>SkinThickness</th>\n",
       "      <td>-0.081672</td>\n",
       "      <td>0.057328</td>\n",
       "      <td>0.207371</td>\n",
       "      <td>1.000000</td>\n",
       "      <td>0.436783</td>\n",
       "      <td>0.392573</td>\n",
       "      <td>0.183928</td>\n",
       "      <td>-0.113970</td>\n",
       "      <td>0.074752</td>\n",
       "    </tr>\n",
       "    <tr>\n",
       "      <th>Insulin</th>\n",
       "      <td>-0.073535</td>\n",
       "      <td>0.331357</td>\n",
       "      <td>0.088933</td>\n",
       "      <td>0.436783</td>\n",
       "      <td>1.000000</td>\n",
       "      <td>0.197859</td>\n",
       "      <td>0.185071</td>\n",
       "      <td>-0.042163</td>\n",
       "      <td>0.130548</td>\n",
       "    </tr>\n",
       "    <tr>\n",
       "      <th>BMI</th>\n",
       "      <td>0.017683</td>\n",
       "      <td>0.221071</td>\n",
       "      <td>0.281805</td>\n",
       "      <td>0.392573</td>\n",
       "      <td>0.197859</td>\n",
       "      <td>1.000000</td>\n",
       "      <td>0.140647</td>\n",
       "      <td>0.036242</td>\n",
       "      <td>0.292695</td>\n",
       "    </tr>\n",
       "    <tr>\n",
       "      <th>DiabetesPedigreeFunction</th>\n",
       "      <td>-0.033523</td>\n",
       "      <td>0.137337</td>\n",
       "      <td>0.041265</td>\n",
       "      <td>0.183928</td>\n",
       "      <td>0.185071</td>\n",
       "      <td>0.140647</td>\n",
       "      <td>1.000000</td>\n",
       "      <td>0.033561</td>\n",
       "      <td>0.173844</td>\n",
       "    </tr>\n",
       "    <tr>\n",
       "      <th>Age</th>\n",
       "      <td>0.544341</td>\n",
       "      <td>0.263514</td>\n",
       "      <td>0.239528</td>\n",
       "      <td>-0.113970</td>\n",
       "      <td>-0.042163</td>\n",
       "      <td>0.036242</td>\n",
       "      <td>0.033561</td>\n",
       "      <td>1.000000</td>\n",
       "      <td>0.238356</td>\n",
       "    </tr>\n",
       "    <tr>\n",
       "      <th>Outcome</th>\n",
       "      <td>0.221898</td>\n",
       "      <td>0.466581</td>\n",
       "      <td>0.065068</td>\n",
       "      <td>0.074752</td>\n",
       "      <td>0.130548</td>\n",
       "      <td>0.292695</td>\n",
       "      <td>0.173844</td>\n",
       "      <td>0.238356</td>\n",
       "      <td>1.000000</td>\n",
       "    </tr>\n",
       "  </tbody>\n",
       "</table>\n",
       "</div>"
      ],
      "text/plain": [
       "                          Pregnancies   Glucose  BloodPressure  SkinThickness  \\\n",
       "Pregnancies                  1.000000  0.129459       0.141282      -0.081672   \n",
       "Glucose                      0.129459  1.000000       0.152590       0.057328   \n",
       "BloodPressure                0.141282  0.152590       1.000000       0.207371   \n",
       "SkinThickness               -0.081672  0.057328       0.207371       1.000000   \n",
       "Insulin                     -0.073535  0.331357       0.088933       0.436783   \n",
       "BMI                          0.017683  0.221071       0.281805       0.392573   \n",
       "DiabetesPedigreeFunction    -0.033523  0.137337       0.041265       0.183928   \n",
       "Age                          0.544341  0.263514       0.239528      -0.113970   \n",
       "Outcome                      0.221898  0.466581       0.065068       0.074752   \n",
       "\n",
       "                           Insulin       BMI  DiabetesPedigreeFunction  \\\n",
       "Pregnancies              -0.073535  0.017683                 -0.033523   \n",
       "Glucose                   0.331357  0.221071                  0.137337   \n",
       "BloodPressure             0.088933  0.281805                  0.041265   \n",
       "SkinThickness             0.436783  0.392573                  0.183928   \n",
       "Insulin                   1.000000  0.197859                  0.185071   \n",
       "BMI                       0.197859  1.000000                  0.140647   \n",
       "DiabetesPedigreeFunction  0.185071  0.140647                  1.000000   \n",
       "Age                      -0.042163  0.036242                  0.033561   \n",
       "Outcome                   0.130548  0.292695                  0.173844   \n",
       "\n",
       "                               Age   Outcome  \n",
       "Pregnancies               0.544341  0.221898  \n",
       "Glucose                   0.263514  0.466581  \n",
       "BloodPressure             0.239528  0.065068  \n",
       "SkinThickness            -0.113970  0.074752  \n",
       "Insulin                  -0.042163  0.130548  \n",
       "BMI                       0.036242  0.292695  \n",
       "DiabetesPedigreeFunction  0.033561  0.173844  \n",
       "Age                       1.000000  0.238356  \n",
       "Outcome                   0.238356  1.000000  "
      ]
     },
     "execution_count": 9,
     "metadata": {},
     "output_type": "execute_result"
    }
   ],
   "source": [
    "corr = df.corr()\n",
    "corr"
   ]
  },
  {
   "cell_type": "code",
   "execution_count": 10,
   "metadata": {},
   "outputs": [
    {
     "data": {
      "text/plain": [
       "<matplotlib.axes._subplots.AxesSubplot at 0x2d3946921c0>"
      ]
     },
     "execution_count": 10,
     "metadata": {},
     "output_type": "execute_result"
    },
    {
     "data": {
      "image/png": "[encoded data removed]",
      "text/plain": [
       "<Figure size 432x288 with 2 Axes>"
      ]
     },
     "metadata": {
      "needs_background": "light"
     },
     "output_type": "display_data"
    }
   ],
   "source": [
    "sns.heatmap(corr, \n",
    "         xticklabels=corr.columns, \n",
    "         yticklabels=corr.columns)"
   ]
  },
  {
   "cell_type": "code",
   "execution_count": 11,
   "metadata": {},
   "outputs": [],
   "source": [
    "dfTrain = df[:650]\n",
    "dfTest = df[650:750]\n",
    "dfCheck = df[750:]"
   ]
  },
  {
   "cell_type": "code",
   "execution_count": 12,
   "metadata": {},
   "outputs": [
    {
     "data": {
      "text/html": [
       "<div>\n",
       "<style scoped>\n",
       "    .dataframe tbody tr th:only-of-type {\n",
       "        vertical-align: middle;\n",
       "    }\n",
       "\n",
       "    .dataframe tbody tr th {\n",
       "        vertical-align: top;\n",
       "    }\n",
       "\n",
       "    .dataframe thead th {\n",
       "        text-align: right;\n",
       "    }\n",
       "</style>\n",
       "<table border=\"1\" class=\"dataframe\">\n",
       "  <thead>\n",
       "    <tr style=\"text-align: right;\">\n",
       "      <th></th>\n",
       "      <th>Pregnancies</th>\n",
       "      <th>Glucose</th>\n",
       "      <th>BloodPressure</th>\n",
       "      <th>SkinThickness</th>\n",
       "      <th>Insulin</th>\n",
       "      <th>BMI</th>\n",
       "      <th>DiabetesPedigreeFunction</th>\n",
       "      <th>Age</th>\n",
       "      <th>Outcome</th>\n",
       "    </tr>\n",
       "  </thead>\n",
       "  <tbody>\n",
       "    <tr>\n",
       "      <th>650</th>\n",
       "      <td>1</td>\n",
       "      <td>91</td>\n",
       "      <td>54</td>\n",
       "      <td>25</td>\n",
       "      <td>100</td>\n",
       "      <td>25.2</td>\n",
       "      <td>0.234</td>\n",
       "      <td>23</td>\n",
       "      <td>0</td>\n",
       "    </tr>\n",
       "    <tr>\n",
       "      <th>651</th>\n",
       "      <td>1</td>\n",
       "      <td>117</td>\n",
       "      <td>60</td>\n",
       "      <td>23</td>\n",
       "      <td>106</td>\n",
       "      <td>33.8</td>\n",
       "      <td>0.466</td>\n",
       "      <td>27</td>\n",
       "      <td>0</td>\n",
       "    </tr>\n",
       "    <tr>\n",
       "      <th>652</th>\n",
       "      <td>5</td>\n",
       "      <td>123</td>\n",
       "      <td>74</td>\n",
       "      <td>40</td>\n",
       "      <td>77</td>\n",
       "      <td>34.1</td>\n",
       "      <td>0.269</td>\n",
       "      <td>28</td>\n",
       "      <td>0</td>\n",
       "    </tr>\n",
       "    <tr>\n",
       "      <th>653</th>\n",
       "      <td>2</td>\n",
       "      <td>120</td>\n",
       "      <td>54</td>\n",
       "      <td>0</td>\n",
       "      <td>0</td>\n",
       "      <td>26.8</td>\n",
       "      <td>0.455</td>\n",
       "      <td>27</td>\n",
       "      <td>0</td>\n",
       "    </tr>\n",
       "    <tr>\n",
       "      <th>654</th>\n",
       "      <td>1</td>\n",
       "      <td>106</td>\n",
       "      <td>70</td>\n",
       "      <td>28</td>\n",
       "      <td>135</td>\n",
       "      <td>34.2</td>\n",
       "      <td>0.142</td>\n",
       "      <td>22</td>\n",
       "      <td>0</td>\n",
       "    </tr>\n",
       "    <tr>\n",
       "      <th>...</th>\n",
       "      <td>...</td>\n",
       "      <td>...</td>\n",
       "      <td>...</td>\n",
       "      <td>...</td>\n",
       "      <td>...</td>\n",
       "      <td>...</td>\n",
       "      <td>...</td>\n",
       "      <td>...</td>\n",
       "      <td>...</td>\n",
       "    </tr>\n",
       "    <tr>\n",
       "      <th>745</th>\n",
       "      <td>12</td>\n",
       "      <td>100</td>\n",
       "      <td>84</td>\n",
       "      <td>33</td>\n",
       "      <td>105</td>\n",
       "      <td>30.0</td>\n",
       "      <td>0.488</td>\n",
       "      <td>46</td>\n",
       "      <td>0</td>\n",
       "    </tr>\n",
       "    <tr>\n",
       "      <th>746</th>\n",
       "      <td>1</td>\n",
       "      <td>147</td>\n",
       "      <td>94</td>\n",
       "      <td>41</td>\n",
       "      <td>0</td>\n",
       "      <td>49.3</td>\n",
       "      <td>0.358</td>\n",
       "      <td>27</td>\n",
       "      <td>1</td>\n",
       "    </tr>\n",
       "    <tr>\n",
       "      <th>747</th>\n",
       "      <td>1</td>\n",
       "      <td>81</td>\n",
       "      <td>74</td>\n",
       "      <td>41</td>\n",
       "      <td>57</td>\n",
       "      <td>46.3</td>\n",
       "      <td>1.096</td>\n",
       "      <td>32</td>\n",
       "      <td>0</td>\n",
       "    </tr>\n",
       "    <tr>\n",
       "      <th>748</th>\n",
       "      <td>3</td>\n",
       "      <td>187</td>\n",
       "      <td>70</td>\n",
       "      <td>22</td>\n",
       "      <td>200</td>\n",
       "      <td>36.4</td>\n",
       "      <td>0.408</td>\n",
       "      <td>36</td>\n",
       "      <td>1</td>\n",
       "    </tr>\n",
       "    <tr>\n",
       "      <th>749</th>\n",
       "      <td>6</td>\n",
       "      <td>162</td>\n",
       "      <td>62</td>\n",
       "      <td>0</td>\n",
       "      <td>0</td>\n",
       "      <td>24.3</td>\n",
       "      <td>0.178</td>\n",
       "      <td>50</td>\n",
       "      <td>1</td>\n",
       "    </tr>\n",
       "  </tbody>\n",
       "</table>\n",
       "<p>100 rows × 9 columns</p>\n",
       "</div>"
      ],
      "text/plain": [
       "     Pregnancies  Glucose  BloodPressure  SkinThickness  Insulin   BMI  \\\n",
       "650            1       91             54             25      100  25.2   \n",
       "651            1      117             60             23      106  33.8   \n",
       "652            5      123             74             40       77  34.1   \n",
       "653            2      120             54              0        0  26.8   \n",
       "654            1      106             70             28      135  34.2   \n",
       "..           ...      ...            ...            ...      ...   ...   \n",
       "745           12      100             84             33      105  30.0   \n",
       "746            1      147             94             41        0  49.3   \n",
       "747            1       81             74             41       57  46.3   \n",
       "748            3      187             70             22      200  36.4   \n",
       "749            6      162             62              0        0  24.3   \n",
       "\n",
       "     DiabetesPedigreeFunction  Age  Outcome  \n",
       "650                     0.234   23        0  \n",
       "651                     0.466   27        0  \n",
       "652                     0.269   28        0  \n",
       "653                     0.455   27        0  \n",
       "654                     0.142   22        0  \n",
       "..                        ...  ...      ...  \n",
       "745                     0.488   46        0  \n",
       "746                     0.358   27        1  \n",
       "747                     1.096   32        0  \n",
       "748                     0.408   36        1  \n",
       "749                     0.178   50        1  \n",
       "\n",
       "[100 rows x 9 columns]"
      ]
     },
     "execution_count": 12,
     "metadata": {},
     "output_type": "execute_result"
    }
   ],
   "source": [
    "dfTest"
   ]
  },
  {
   "cell_type": "code",
   "execution_count": 13,
   "metadata": {},
   "outputs": [],
   "source": [
    "trainLabel = np.asarray(dfTrain['Outcome'])\n",
    "trainData = np.asarray(dfTrain.drop('Outcome',1))\n",
    "testLabel = np.asarray(dfTest['Outcome'])\n",
    "testData = np.asarray(dfTest.drop('Outcome',1))"
   ]
  },
  {
   "cell_type": "code",
   "execution_count": 14,
   "metadata": {},
   "outputs": [
    {
     "data": {
      "text/plain": [
       "array([[1.000e+00, 9.100e+01, 5.400e+01, 2.500e+01, 1.000e+02, 2.520e+01,\n",
       "        2.340e-01, 2.300e+01],\n",
       "       [1.000e+00, 1.170e+02, 6.000e+01, 2.300e+01, 1.060e+02, 3.380e+01,\n",
       "        4.660e-01, 2.700e+01],\n",
       "       [5.000e+00, 1.230e+02, 7.400e+01, 4.000e+01, 7.700e+01, 3.410e+01,\n",
       "        2.690e-01, 2.800e+01],\n",
       "       [2.000e+00, 1.200e+02, 5.400e+01, 0.000e+00, 0.000e+00, 2.680e+01,\n",
       "        4.550e-01, 2.700e+01],\n",
       "       [1.000e+00, 1.060e+02, 7.000e+01, 2.800e+01, 1.350e+02, 3.420e+01,\n",
       "        1.420e-01, 2.200e+01],\n",
       "       [2.000e+00, 1.550e+02, 5.200e+01, 2.700e+01, 5.400e+02, 3.870e+01,\n",
       "        2.400e-01, 2.500e+01],\n",
       "       [2.000e+00, 1.010e+02, 5.800e+01, 3.500e+01, 9.000e+01, 2.180e+01,\n",
       "        1.550e-01, 2.200e+01],\n",
       "       [1.000e+00, 1.200e+02, 8.000e+01, 4.800e+01, 2.000e+02, 3.890e+01,\n",
       "        1.162e+00, 4.100e+01],\n",
       "       [1.100e+01, 1.270e+02, 1.060e+02, 0.000e+00, 0.000e+00, 3.900e+01,\n",
       "        1.900e-01, 5.100e+01],\n",
       "       [3.000e+00, 8.000e+01, 8.200e+01, 3.100e+01, 7.000e+01, 3.420e+01,\n",
       "        1.292e+00, 2.700e+01],\n",
       "       [1.000e+01, 1.620e+02, 8.400e+01, 0.000e+00, 0.000e+00, 2.770e+01,\n",
       "        1.820e-01, 5.400e+01],\n",
       "       [1.000e+00, 1.990e+02, 7.600e+01, 4.300e+01, 0.000e+00, 4.290e+01,\n",
       "        1.394e+00, 2.200e+01],\n",
       "       [8.000e+00, 1.670e+02, 1.060e+02, 4.600e+01, 2.310e+02, 3.760e+01,\n",
       "        1.650e-01, 4.300e+01],\n",
       "       [9.000e+00, 1.450e+02, 8.000e+01, 4.600e+01, 1.300e+02, 3.790e+01,\n",
       "        6.370e-01, 4.000e+01],\n",
       "       [6.000e+00, 1.150e+02, 6.000e+01, 3.900e+01, 0.000e+00, 3.370e+01,\n",
       "        2.450e-01, 4.000e+01],\n",
       "       [1.000e+00, 1.120e+02, 8.000e+01, 4.500e+01, 1.320e+02, 3.480e+01,\n",
       "        2.170e-01, 2.400e+01],\n",
       "       [4.000e+00, 1.450e+02, 8.200e+01, 1.800e+01, 0.000e+00, 3.250e+01,\n",
       "        2.350e-01, 7.000e+01],\n",
       "       [1.000e+01, 1.110e+02, 7.000e+01, 2.700e+01, 0.000e+00, 2.750e+01,\n",
       "        1.410e-01, 4.000e+01],\n",
       "       [6.000e+00, 9.800e+01, 5.800e+01, 3.300e+01, 1.900e+02, 3.400e+01,\n",
       "        4.300e-01, 4.300e+01],\n",
       "       [9.000e+00, 1.540e+02, 7.800e+01, 3.000e+01, 1.000e+02, 3.090e+01,\n",
       "        1.640e-01, 4.500e+01],\n",
       "       [6.000e+00, 1.650e+02, 6.800e+01, 2.600e+01, 1.680e+02, 3.360e+01,\n",
       "        6.310e-01, 4.900e+01],\n",
       "       [1.000e+00, 9.900e+01, 5.800e+01, 1.000e+01, 0.000e+00, 2.540e+01,\n",
       "        5.510e-01, 2.100e+01],\n",
       "       [1.000e+01, 6.800e+01, 1.060e+02, 2.300e+01, 4.900e+01, 3.550e+01,\n",
       "        2.850e-01, 4.700e+01],\n",
       "       [3.000e+00, 1.230e+02, 1.000e+02, 3.500e+01, 2.400e+02, 5.730e+01,\n",
       "        8.800e-01, 2.200e+01],\n",
       "       [8.000e+00, 9.100e+01, 8.200e+01, 0.000e+00, 0.000e+00, 3.560e+01,\n",
       "        5.870e-01, 6.800e+01],\n",
       "       [6.000e+00, 1.950e+02, 7.000e+01, 0.000e+00, 0.000e+00, 3.090e+01,\n",
       "        3.280e-01, 3.100e+01],\n",
       "       [9.000e+00, 1.560e+02, 8.600e+01, 0.000e+00, 0.000e+00, 2.480e+01,\n",
       "        2.300e-01, 5.300e+01],\n",
       "       [0.000e+00, 9.300e+01, 6.000e+01, 0.000e+00, 0.000e+00, 3.530e+01,\n",
       "        2.630e-01, 2.500e+01],\n",
       "       [3.000e+00, 1.210e+02, 5.200e+01, 0.000e+00, 0.000e+00, 3.600e+01,\n",
       "        1.270e-01, 2.500e+01],\n",
       "       [2.000e+00, 1.010e+02, 5.800e+01, 1.700e+01, 2.650e+02, 2.420e+01,\n",
       "        6.140e-01, 2.300e+01],\n",
       "       [2.000e+00, 5.600e+01, 5.600e+01, 2.800e+01, 4.500e+01, 2.420e+01,\n",
       "        3.320e-01, 2.200e+01],\n",
       "       [0.000e+00, 1.620e+02, 7.600e+01, 3.600e+01, 0.000e+00, 4.960e+01,\n",
       "        3.640e-01, 2.600e+01],\n",
       "       [0.000e+00, 9.500e+01, 6.400e+01, 3.900e+01, 1.050e+02, 4.460e+01,\n",
       "        3.660e-01, 2.200e+01],\n",
       "       [4.000e+00, 1.250e+02, 8.000e+01, 0.000e+00, 0.000e+00, 3.230e+01,\n",
       "        5.360e-01, 2.700e+01],\n",
       "       [5.000e+00, 1.360e+02, 8.200e+01, 0.000e+00, 0.000e+00, 0.000e+00,\n",
       "        6.400e-01, 6.900e+01],\n",
       "       [2.000e+00, 1.290e+02, 7.400e+01, 2.600e+01, 2.050e+02, 3.320e+01,\n",
       "        5.910e-01, 2.500e+01],\n",
       "       [3.000e+00, 1.300e+02, 6.400e+01, 0.000e+00, 0.000e+00, 2.310e+01,\n",
       "        3.140e-01, 2.200e+01],\n",
       "       [1.000e+00, 1.070e+02, 5.000e+01, 1.900e+01, 0.000e+00, 2.830e+01,\n",
       "        1.810e-01, 2.900e+01],\n",
       "       [1.000e+00, 1.400e+02, 7.400e+01, 2.600e+01, 1.800e+02, 2.410e+01,\n",
       "        8.280e-01, 2.300e+01],\n",
       "       [1.000e+00, 1.440e+02, 8.200e+01, 4.600e+01, 1.800e+02, 4.610e+01,\n",
       "        3.350e-01, 4.600e+01],\n",
       "       [8.000e+00, 1.070e+02, 8.000e+01, 0.000e+00, 0.000e+00, 2.460e+01,\n",
       "        8.560e-01, 3.400e+01],\n",
       "       [1.300e+01, 1.580e+02, 1.140e+02, 0.000e+00, 0.000e+00, 4.230e+01,\n",
       "        2.570e-01, 4.400e+01],\n",
       "       [2.000e+00, 1.210e+02, 7.000e+01, 3.200e+01, 9.500e+01, 3.910e+01,\n",
       "        8.860e-01, 2.300e+01],\n",
       "       [7.000e+00, 1.290e+02, 6.800e+01, 4.900e+01, 1.250e+02, 3.850e+01,\n",
       "        4.390e-01, 4.300e+01],\n",
       "       [2.000e+00, 9.000e+01, 6.000e+01, 0.000e+00, 0.000e+00, 2.350e+01,\n",
       "        1.910e-01, 2.500e+01],\n",
       "       [7.000e+00, 1.420e+02, 9.000e+01, 2.400e+01, 4.800e+02, 3.040e+01,\n",
       "        1.280e-01, 4.300e+01],\n",
       "       [3.000e+00, 1.690e+02, 7.400e+01, 1.900e+01, 1.250e+02, 2.990e+01,\n",
       "        2.680e-01, 3.100e+01],\n",
       "       [0.000e+00, 9.900e+01, 0.000e+00, 0.000e+00, 0.000e+00, 2.500e+01,\n",
       "        2.530e-01, 2.200e+01],\n",
       "       [4.000e+00, 1.270e+02, 8.800e+01, 1.100e+01, 1.550e+02, 3.450e+01,\n",
       "        5.980e-01, 2.800e+01],\n",
       "       [4.000e+00, 1.180e+02, 7.000e+01, 0.000e+00, 0.000e+00, 4.450e+01,\n",
       "        9.040e-01, 2.600e+01],\n",
       "       [2.000e+00, 1.220e+02, 7.600e+01, 2.700e+01, 2.000e+02, 3.590e+01,\n",
       "        4.830e-01, 2.600e+01],\n",
       "       [6.000e+00, 1.250e+02, 7.800e+01, 3.100e+01, 0.000e+00, 2.760e+01,\n",
       "        5.650e-01, 4.900e+01],\n",
       "       [1.000e+00, 1.680e+02, 8.800e+01, 2.900e+01, 0.000e+00, 3.500e+01,\n",
       "        9.050e-01, 5.200e+01],\n",
       "       [2.000e+00, 1.290e+02, 0.000e+00, 0.000e+00, 0.000e+00, 3.850e+01,\n",
       "        3.040e-01, 4.100e+01],\n",
       "       [4.000e+00, 1.100e+02, 7.600e+01, 2.000e+01, 1.000e+02, 2.840e+01,\n",
       "        1.180e-01, 2.700e+01],\n",
       "       [6.000e+00, 8.000e+01, 8.000e+01, 3.600e+01, 0.000e+00, 3.980e+01,\n",
       "        1.770e-01, 2.800e+01],\n",
       "       [1.000e+01, 1.150e+02, 0.000e+00, 0.000e+00, 0.000e+00, 0.000e+00,\n",
       "        2.610e-01, 3.000e+01],\n",
       "       [2.000e+00, 1.270e+02, 4.600e+01, 2.100e+01, 3.350e+02, 3.440e+01,\n",
       "        1.760e-01, 2.200e+01],\n",
       "       [9.000e+00, 1.640e+02, 7.800e+01, 0.000e+00, 0.000e+00, 3.280e+01,\n",
       "        1.480e-01, 4.500e+01],\n",
       "       [2.000e+00, 9.300e+01, 6.400e+01, 3.200e+01, 1.600e+02, 3.800e+01,\n",
       "        6.740e-01, 2.300e+01],\n",
       "       [3.000e+00, 1.580e+02, 6.400e+01, 1.300e+01, 3.870e+02, 3.120e+01,\n",
       "        2.950e-01, 2.400e+01],\n",
       "       [5.000e+00, 1.260e+02, 7.800e+01, 2.700e+01, 2.200e+01, 2.960e+01,\n",
       "        4.390e-01, 4.000e+01],\n",
       "       [1.000e+01, 1.290e+02, 6.200e+01, 3.600e+01, 0.000e+00, 4.120e+01,\n",
       "        4.410e-01, 3.800e+01],\n",
       "       [0.000e+00, 1.340e+02, 5.800e+01, 2.000e+01, 2.910e+02, 2.640e+01,\n",
       "        3.520e-01, 2.100e+01],\n",
       "       [3.000e+00, 1.020e+02, 7.400e+01, 0.000e+00, 0.000e+00, 2.950e+01,\n",
       "        1.210e-01, 3.200e+01],\n",
       "       [7.000e+00, 1.870e+02, 5.000e+01, 3.300e+01, 3.920e+02, 3.390e+01,\n",
       "        8.260e-01, 3.400e+01],\n",
       "       [3.000e+00, 1.730e+02, 7.800e+01, 3.900e+01, 1.850e+02, 3.380e+01,\n",
       "        9.700e-01, 3.100e+01],\n",
       "       [1.000e+01, 9.400e+01, 7.200e+01, 1.800e+01, 0.000e+00, 2.310e+01,\n",
       "        5.950e-01, 5.600e+01],\n",
       "       [1.000e+00, 1.080e+02, 6.000e+01, 4.600e+01, 1.780e+02, 3.550e+01,\n",
       "        4.150e-01, 2.400e+01],\n",
       "       [5.000e+00, 9.700e+01, 7.600e+01, 2.700e+01, 0.000e+00, 3.560e+01,\n",
       "        3.780e-01, 5.200e+01],\n",
       "       [4.000e+00, 8.300e+01, 8.600e+01, 1.900e+01, 0.000e+00, 2.930e+01,\n",
       "        3.170e-01, 3.400e+01],\n",
       "       [1.000e+00, 1.140e+02, 6.600e+01, 3.600e+01, 2.000e+02, 3.810e+01,\n",
       "        2.890e-01, 2.100e+01],\n",
       "       [1.000e+00, 1.490e+02, 6.800e+01, 2.900e+01, 1.270e+02, 2.930e+01,\n",
       "        3.490e-01, 4.200e+01],\n",
       "       [5.000e+00, 1.170e+02, 8.600e+01, 3.000e+01, 1.050e+02, 3.910e+01,\n",
       "        2.510e-01, 4.200e+01],\n",
       "       [1.000e+00, 1.110e+02, 9.400e+01, 0.000e+00, 0.000e+00, 3.280e+01,\n",
       "        2.650e-01, 4.500e+01],\n",
       "       [4.000e+00, 1.120e+02, 7.800e+01, 4.000e+01, 0.000e+00, 3.940e+01,\n",
       "        2.360e-01, 3.800e+01],\n",
       "       [1.000e+00, 1.160e+02, 7.800e+01, 2.900e+01, 1.800e+02, 3.610e+01,\n",
       "        4.960e-01, 2.500e+01],\n",
       "       [0.000e+00, 1.410e+02, 8.400e+01, 2.600e+01, 0.000e+00, 3.240e+01,\n",
       "        4.330e-01, 2.200e+01],\n",
       "       [2.000e+00, 1.750e+02, 8.800e+01, 0.000e+00, 0.000e+00, 2.290e+01,\n",
       "        3.260e-01, 2.200e+01],\n",
       "       [2.000e+00, 9.200e+01, 5.200e+01, 0.000e+00, 0.000e+00, 3.010e+01,\n",
       "        1.410e-01, 2.200e+01],\n",
       "       [3.000e+00, 1.300e+02, 7.800e+01, 2.300e+01, 7.900e+01, 2.840e+01,\n",
       "        3.230e-01, 3.400e+01],\n",
       "       [8.000e+00, 1.200e+02, 8.600e+01, 0.000e+00, 0.000e+00, 2.840e+01,\n",
       "        2.590e-01, 2.200e+01],\n",
       "       [2.000e+00, 1.740e+02, 8.800e+01, 3.700e+01, 1.200e+02, 4.450e+01,\n",
       "        6.460e-01, 2.400e+01],\n",
       "       [2.000e+00, 1.060e+02, 5.600e+01, 2.700e+01, 1.650e+02, 2.900e+01,\n",
       "        4.260e-01, 2.200e+01],\n",
       "       [2.000e+00, 1.050e+02, 7.500e+01, 0.000e+00, 0.000e+00, 2.330e+01,\n",
       "        5.600e-01, 5.300e+01],\n",
       "       [4.000e+00, 9.500e+01, 6.000e+01, 3.200e+01, 0.000e+00, 3.540e+01,\n",
       "        2.840e-01, 2.800e+01],\n",
       "       [0.000e+00, 1.260e+02, 8.600e+01, 2.700e+01, 1.200e+02, 2.740e+01,\n",
       "        5.150e-01, 2.100e+01],\n",
       "       [8.000e+00, 6.500e+01, 7.200e+01, 2.300e+01, 0.000e+00, 3.200e+01,\n",
       "        6.000e-01, 4.200e+01],\n",
       "       [2.000e+00, 9.900e+01, 6.000e+01, 1.700e+01, 1.600e+02, 3.660e+01,\n",
       "        4.530e-01, 2.100e+01],\n",
       "       [1.000e+00, 1.020e+02, 7.400e+01, 0.000e+00, 0.000e+00, 3.950e+01,\n",
       "        2.930e-01, 4.200e+01],\n",
       "       [1.100e+01, 1.200e+02, 8.000e+01, 3.700e+01, 1.500e+02, 4.230e+01,\n",
       "        7.850e-01, 4.800e+01],\n",
       "       [3.000e+00, 1.020e+02, 4.400e+01, 2.000e+01, 9.400e+01, 3.080e+01,\n",
       "        4.000e-01, 2.600e+01],\n",
       "       [1.000e+00, 1.090e+02, 5.800e+01, 1.800e+01, 1.160e+02, 2.850e+01,\n",
       "        2.190e-01, 2.200e+01],\n",
       "       [9.000e+00, 1.400e+02, 9.400e+01, 0.000e+00, 0.000e+00, 3.270e+01,\n",
       "        7.340e-01, 4.500e+01],\n",
       "       [1.300e+01, 1.530e+02, 8.800e+01, 3.700e+01, 1.400e+02, 4.060e+01,\n",
       "        1.174e+00, 3.900e+01],\n",
       "       [1.200e+01, 1.000e+02, 8.400e+01, 3.300e+01, 1.050e+02, 3.000e+01,\n",
       "        4.880e-01, 4.600e+01],\n",
       "       [1.000e+00, 1.470e+02, 9.400e+01, 4.100e+01, 0.000e+00, 4.930e+01,\n",
       "        3.580e-01, 2.700e+01],\n",
       "       [1.000e+00, 8.100e+01, 7.400e+01, 4.100e+01, 5.700e+01, 4.630e+01,\n",
       "        1.096e+00, 3.200e+01],\n",
       "       [3.000e+00, 1.870e+02, 7.000e+01, 2.200e+01, 2.000e+02, 3.640e+01,\n",
       "        4.080e-01, 3.600e+01],\n",
       "       [6.000e+00, 1.620e+02, 6.200e+01, 0.000e+00, 0.000e+00, 2.430e+01,\n",
       "        1.780e-01, 5.000e+01]])"
      ]
     },
     "execution_count": 14,
     "metadata": {},
     "output_type": "execute_result"
    }
   ],
   "source": [
    "testData"
   ]
  },
  {
   "cell_type": "code",
   "execution_count": 15,
   "metadata": {},
   "outputs": [],
   "source": [
    "means = np.mean(trainData, axis=0)\n",
    "stds = np.std(trainData, axis=0)"
   ]
  },
  {
   "cell_type": "code",
   "execution_count": 16,
   "metadata": {},
   "outputs": [
    {
     "data": {
      "text/plain": [
       "array([  3.79846154, 120.20769231,  68.60923077,  20.33538462,\n",
       "        79.07384615,  31.81738462,   0.47851538,  33.04461538])"
      ]
     },
     "execution_count": 16,
     "metadata": {},
     "output_type": "execute_result"
    }
   ],
   "source": [
    "means"
   ]
  },
  {
   "cell_type": "code",
   "execution_count": 17,
   "metadata": {},
   "outputs": [
    {
     "data": {
      "text/plain": [
       "array([  3.3555003 ,  32.33633254,  19.59178574,  15.95845019,\n",
       "       115.32512206,   7.87238538,   0.33924051,  11.65541843])"
      ]
     },
     "execution_count": 17,
     "metadata": {},
     "output_type": "execute_result"
    }
   ],
   "source": [
    "stds"
   ]
  },
  {
   "cell_type": "code",
   "execution_count": 18,
   "metadata": {},
   "outputs": [],
   "source": [
    "trainData = (trainData - means)/stds\n",
    "testData = (testData - means)/stds"
   ]
  },
  {
   "cell_type": "code",
   "execution_count": 19,
   "metadata": {},
   "outputs": [
    {
     "data": {
      "text/plain": [
       "array([[ 0.65609843,  0.85947618,  0.17307096, ...,  0.22643904,\n",
       "         0.43769718,  1.45472123],\n",
       "       [-0.83399234, -1.0887967 , -0.13317983, ..., -0.66274507,\n",
       "        -0.3758849 , -0.17542188],\n",
       "       [ 1.25213473,  1.94185001, -0.23526343, ..., -1.08193187,\n",
       "         0.57034643, -0.08962487],\n",
       "       ...,\n",
       "       [-1.13201049,  1.81815014, -0.94984863, ...,  0.75994951,\n",
       "        -0.06931774, -0.94759493],\n",
       "       [ 2.14618919,  0.48837659,  0.78557256, ..., -0.44680036,\n",
       "        -0.64413116,  0.76834518],\n",
       "       [-1.13201049, -0.40844744, -0.43943063, ..., -0.68815033,\n",
       "        -1.01849683, -0.86179792]])"
      ]
     },
     "execution_count": 19,
     "metadata": {},
     "output_type": "execute_result"
    }
   ],
   "source": [
    "trainData"
   ]
  },
  {
   "cell_type": "code",
   "execution_count": 20,
   "metadata": {},
   "outputs": [
    {
     "data": {
      "text/plain": [
       "array([[-8.33992338e-01, -9.03246906e-01, -7.45681428e-01,\n",
       "         2.92297518e-01,  1.81453559e-01, -8.40581894e-01,\n",
       "        -7.20772954e-01, -8.61797922e-01],\n",
       "       [-8.33992338e-01, -9.91977771e-02, -4.39430631e-01,\n",
       "         1.66972065e-01,  2.33480385e-01,  2.51844300e-01,\n",
       "        -3.68923647e-02, -5.18609900e-01],\n",
       "       [ 3.58080273e-01,  8.63520218e-02,  2.75154562e-01,\n",
       "         1.23223842e+00, -1.79826053e-02,  2.89952190e-01,\n",
       "        -6.17601314e-01, -4.32812894e-01],\n",
       "       [-5.35974185e-01, -6.42287765e-03, -7.45681428e-01,\n",
       "        -1.27427064e+00, -6.85660199e-01, -6.37339811e-01,\n",
       "        -6.93177375e-02, -5.18609900e-01],\n",
       "       [-8.33992338e-01, -4.39372408e-01,  7.09873642e-02,\n",
       "         4.80285698e-01,  4.84943374e-01,  3.02654820e-01,\n",
       "        -9.91966981e-01, -9.47594928e-01],\n",
       "       [-5.35974185e-01,  1.07595095e+00, -8.47765027e-01,\n",
       "         4.17622971e-01,  3.99675410e+00,  8.74273178e-01,\n",
       "        -7.03086387e-01, -6.90203911e-01],\n",
       "       [-5.35974185e-01, -5.93997241e-01, -5.41514230e-01,\n",
       "         9.18924783e-01,  9.47421832e-02, -1.27247132e+00,\n",
       "        -9.53646086e-01, -9.47594928e-01],\n",
       "       [-8.33992338e-01, -6.42287765e-03,  5.81405359e-01,\n",
       "         1.73354023e+00,  1.04856732e+00,  8.99678438e-01,\n",
       "         2.01474940e+00,  6.82548178e-01],\n",
       "       [ 2.14618919e+00,  2.10051888e-01,  1.90849215e+00,\n",
       "        -1.27427064e+00, -6.85660199e-01,  9.12381068e-01,\n",
       "        -8.50474446e-01,  1.54051823e+00],\n",
       "       [-2.37956033e-01, -1.24342154e+00,  6.83488958e-01,\n",
       "         6.68273877e-01, -7.86805684e-02,  3.02654820e-01,\n",
       "         2.39795836e+00, -5.18609900e-01],\n",
       "       [ 1.84817104e+00,  1.29242571e+00,  7.85572557e-01,\n",
       "        -1.27427064e+00, -6.85660199e-01, -5.23016140e-01,\n",
       "        -8.74056535e-01,  1.79790925e+00],\n",
       "       [-8.33992338e-01,  2.43664947e+00,  3.77238161e-01,\n",
       "         1.42022660e+00, -6.85660199e-01,  1.40778364e+00,\n",
       "         2.69862999e+00, -9.47594928e-01],\n",
       "       [ 1.25213473e+00,  1.44705055e+00,  1.90849215e+00,\n",
       "         1.60821477e+00,  1.31737258e+00,  7.34544246e-01,\n",
       "        -9.24168475e-01,  8.54142190e-01],\n",
       "       [ 1.55015288e+00,  7.66701284e-01,  5.81405359e-01,\n",
       "         1.60821477e+00,  4.41587687e-01,  7.72652136e-01,\n",
       "         4.67174794e-01,  5.96751173e-01],\n",
       "       [ 6.56098425e-01, -1.61047710e-01, -4.39430631e-01,\n",
       "         1.16957569e+00, -6.85660199e-01,  2.39141670e-01,\n",
       "        -6.88347582e-01,  5.96751173e-01],\n",
       "       [-8.33992338e-01, -2.53822609e-01,  5.81405359e-01,\n",
       "         1.54555205e+00,  4.58929962e-01,  3.78870601e-01,\n",
       "        -7.70884894e-01, -7.76000917e-01],\n",
       "       [ 6.00621200e-02,  7.66701284e-01,  6.83488958e-01,\n",
       "        -1.46341567e-01, -6.85660199e-01,  8.67101077e-02,\n",
       "        -7.17825193e-01,  3.17066134e+00],\n",
       "       [ 1.84817104e+00, -2.84747576e-01,  7.09873642e-02,\n",
       "         4.17622971e-01, -6.85660199e-01, -5.48421400e-01,\n",
       "        -9.94914742e-01,  5.96751173e-01],\n",
       "       [ 6.56098425e-01, -6.86772140e-01, -5.41514230e-01,\n",
       "         7.93599330e-01,  9.61855941e-01,  2.77249560e-01,\n",
       "        -1.43011767e-01,  8.54142190e-01],\n",
       "       [ 1.55015288e+00,  1.04502598e+00,  4.79321760e-01,\n",
       "         6.05611151e-01,  1.81453559e-01, -1.16531975e-01,\n",
       "        -9.27116236e-01,  1.02573620e+00],\n",
       "       [ 6.56098425e-01,  1.38520061e+00, -3.10962348e-02,\n",
       "         3.54960245e-01,  7.71090915e-01,  2.26439039e-01,\n",
       "         4.49488227e-01,  1.36892422e+00],\n",
       "       [-8.33992338e-01, -6.55847174e-01, -5.41514230e-01,\n",
       "        -6.47643380e-01, -6.85660199e-01, -8.15176634e-01,\n",
       "         2.13667334e-01, -1.03339193e+00],\n",
       "       [ 1.84817104e+00, -1.61452113e+00,  1.90849215e+00,\n",
       "         1.66972065e-01, -2.60774458e-01,  4.67789013e-01,\n",
       "        -5.70437135e-01,  1.19733021e+00],\n",
       "       [-2.37956033e-01,  8.63520218e-02,  1.60224135e+00,\n",
       "         9.18924783e-01,  1.39541282e+00,  3.23696239e+00,\n",
       "         1.18348076e+00, -9.47594928e-01],\n",
       "       [ 1.25213473e+00, -9.03246906e-01,  6.83488958e-01,\n",
       "        -1.27427064e+00, -6.85660199e-01,  4.80491643e-01,\n",
       "         3.19786736e-01,  2.99906733e+00],\n",
       "       [ 6.56098425e-01,  2.31294961e+00,  7.09873642e-02,\n",
       "        -1.27427064e+00, -6.85660199e-01, -1.16531975e-01,\n",
       "        -4.43683405e-01, -1.75421878e-01],\n",
       "       [ 1.55015288e+00,  1.10687592e+00,  8.87656156e-01,\n",
       "        -1.27427064e+00, -6.85660199e-01, -8.91392415e-01,\n",
       "        -7.32563999e-01,  1.71211225e+00],\n",
       "       [-1.13201049e+00, -8.41396973e-01, -4.39430631e-01,\n",
       "        -1.27427064e+00, -6.85660199e-01,  4.42383752e-01,\n",
       "        -6.35287881e-01, -6.90203911e-01],\n",
       "       [-2.37956033e-01,  2.45020888e-02, -8.47765027e-01,\n",
       "        -1.27427064e+00, -6.85660199e-01,  5.31302163e-01,\n",
       "        -1.03618340e+00, -6.90203911e-01],\n",
       "       [-5.35974185e-01, -5.93997241e-01, -5.41514230e-01,\n",
       "        -2.09004294e-01,  1.61219126e+00, -9.67608196e-01,\n",
       "         3.99376287e-01, -8.61797922e-01],\n",
       "       [-5.35974185e-01, -1.98562073e+00, -6.43597829e-01,\n",
       "         4.80285698e-01, -2.95459008e-01, -9.67608196e-01,\n",
       "        -4.31892360e-01, -9.47594928e-01],\n",
       "       [-1.13201049e+00,  1.29242571e+00,  3.77238161e-01,\n",
       "         9.81587510e-01, -6.85660199e-01,  2.25885987e+00,\n",
       "        -3.37564003e-01, -6.04406906e-01],\n",
       "       [-1.13201049e+00, -7.79547040e-01, -2.35263433e-01,\n",
       "         1.16957569e+00,  2.24809247e-01,  1.62372836e+00,\n",
       "        -3.31668481e-01, -9.47594928e-01],\n",
       "       [ 6.00621200e-02,  1.48201955e-01,  5.81405359e-01,\n",
       "        -1.27427064e+00, -6.85660199e-01,  6.13048474e-02,\n",
       "         1.69450917e-01, -5.18609900e-01],\n",
       "       [ 3.58080273e-01,  4.88376586e-01,  6.83488958e-01,\n",
       "        -1.27427064e+00, -6.85660199e-01, -4.04164469e+00,\n",
       "         4.76018078e-01,  3.08486434e+00],\n",
       "       [-5.35974185e-01,  2.71901821e-01,  2.75154562e-01,\n",
       "         3.54960245e-01,  1.09192301e+00,  1.75628519e-01,\n",
       "         3.31577781e-01, -6.90203911e-01],\n",
       "       [-2.37956033e-01,  3.02826787e-01, -2.35263433e-01,\n",
       "        -1.27427064e+00, -6.85660199e-01, -1.10733713e+00,\n",
       "        -4.84952061e-01, -9.47594928e-01],\n",
       "       [-8.33992338e-01, -4.08447442e-01, -9.49848626e-01,\n",
       "        -8.36788409e-02, -6.85660199e-01, -4.46800359e-01,\n",
       "        -8.77004296e-01, -3.47015889e-01],\n",
       "       [-8.33992338e-01,  6.12076452e-01,  2.75154562e-01,\n",
       "         3.54960245e-01,  8.75144566e-01, -9.80310826e-01,\n",
       "         1.03019718e+00, -8.61797922e-01],\n",
       "       [-8.33992338e-01,  7.35776318e-01,  6.83488958e-01,\n",
       "         1.60821477e+00,  8.75144566e-01,  1.81426781e+00,\n",
       "        -4.23049077e-01,  1.11153321e+00],\n",
       "       [ 1.25213473e+00, -4.08447442e-01,  5.81405359e-01,\n",
       "        -1.27427064e+00, -6.85660199e-01, -9.16797675e-01,\n",
       "         1.11273449e+00,  8.19691392e-02],\n",
       "       [ 2.74222549e+00,  1.16872585e+00,  2.31682654e+00,\n",
       "        -1.27427064e+00, -6.85660199e-01,  1.33156786e+00,\n",
       "        -6.52974448e-01,  9.39939195e-01],\n",
       "       [-5.35974185e-01,  2.45020888e-02,  7.09873642e-02,\n",
       "         7.30936604e-01,  1.38097871e-01,  9.25083698e-01,\n",
       "         1.20116732e+00, -8.61797922e-01],\n",
       "       [ 9.54116578e-01,  2.71901821e-01, -3.10962348e-02,\n",
       "         1.79620295e+00,  3.98231999e-01,  8.48867917e-01,\n",
       "        -1.16481916e-01,  8.54142190e-01],\n",
       "       [-5.35974185e-01, -9.34171872e-01, -4.39430631e-01,\n",
       "        -1.27427064e+00, -6.85660199e-01, -1.05652661e+00,\n",
       "        -8.47526684e-01, -6.90203911e-01],\n",
       "       [ 9.54116578e-01,  6.73926385e-01,  1.09182335e+00,\n",
       "         2.29634792e-01,  3.47648584e+00, -1.80045126e-01,\n",
       "        -1.03323564e+00,  8.54142190e-01],\n",
       "       [-2.37956033e-01,  1.50890048e+00,  2.75154562e-01,\n",
       "        -8.36788409e-02,  3.98231999e-01, -2.43558276e-01,\n",
       "        -6.20549075e-01, -1.75421878e-01],\n",
       "       [-1.13201049e+00, -6.55847174e-01, -3.50193860e+00,\n",
       "        -1.27427064e+00, -6.85660199e-01, -8.65987154e-01,\n",
       "        -6.64765492e-01, -9.47594928e-01],\n",
       "       [ 6.00621200e-02,  2.10051888e-01,  9.89739755e-01,\n",
       "        -5.84980653e-01,  6.58366126e-01,  3.40762711e-01,\n",
       "         3.52212109e-01, -4.32812894e-01],\n",
       "       [ 6.00621200e-02, -6.82728106e-02,  7.09873642e-02,\n",
       "        -1.27427064e+00, -6.85660199e-01,  1.61102573e+00,\n",
       "         1.25422702e+00, -6.04406906e-01],\n",
       "       [-5.35974185e-01,  5.54270553e-02,  3.77238161e-01,\n",
       "         4.17622971e-01,  1.04856732e+00,  5.18599533e-01,\n",
       "         1.32195751e-02, -6.04406906e-01],\n",
       "       [ 6.56098425e-01,  1.48201955e-01,  4.79321760e-01,\n",
       "         6.68273877e-01, -6.85660199e-01, -5.35718770e-01,\n",
       "         2.54935990e-01,  1.36892422e+00],\n",
       "       [-8.33992338e-01,  1.47797551e+00,  9.89739755e-01,\n",
       "         5.42948424e-01, -6.85660199e-01,  4.04275862e-01,\n",
       "         1.25717479e+00,  1.62631524e+00],\n",
       "       [-5.35974185e-01,  2.71901821e-01, -3.50193860e+00,\n",
       "        -1.27427064e+00, -6.85660199e-01,  8.48867917e-01,\n",
       "        -5.14429673e-01,  6.82548178e-01],\n",
       "       [ 6.00621200e-02, -3.15672542e-01,  3.77238161e-01,\n",
       "        -2.10161144e-02,  1.81453559e-01, -4.34097729e-01,\n",
       "        -1.06271325e+00, -5.18609900e-01],\n",
       "       [ 6.56098425e-01, -1.24342154e+00,  5.81405359e-01,\n",
       "         9.81587510e-01, -6.85660199e-01,  1.01400211e+00,\n",
       "        -8.88795341e-01, -4.32812894e-01],\n",
       "       [ 1.84817104e+00, -1.61047710e-01, -3.50193860e+00,\n",
       "        -1.27427064e+00, -6.85660199e-01, -4.04164469e+00,\n",
       "        -6.41183403e-01, -2.61218883e-01],\n",
       "       [-5.35974185e-01,  2.10051888e-01, -1.15401582e+00,\n",
       "         4.16466121e-02,  2.21917089e+00,  3.28060081e-01,\n",
       "        -8.91743102e-01, -9.47594928e-01],\n",
       "       [ 1.55015288e+00,  1.35427565e+00,  4.79321760e-01,\n",
       "        -1.27427064e+00, -6.85660199e-01,  1.24817998e-01,\n",
       "        -9.74280414e-01,  1.02573620e+00],\n",
       "       [-5.35974185e-01, -8.41396973e-01, -2.35263433e-01,\n",
       "         7.30936604e-01,  7.01721814e-01,  7.85354767e-01,\n",
       "         5.76241957e-01, -8.61797922e-01],\n",
       "       [-2.37956033e-01,  1.16872585e+00, -2.35263433e-01,\n",
       "        -4.59655200e-01,  2.67007005e+00, -7.84240844e-02,\n",
       "        -5.40959523e-01, -7.76000917e-01],\n",
       "       [ 3.58080273e-01,  1.79126921e-01,  4.79321760e-01,\n",
       "         4.17622971e-01, -4.94895172e-01, -2.81666167e-01,\n",
       "        -1.16481916e-01,  5.96751173e-01],\n",
       "       [ 1.84817104e+00,  2.71901821e-01, -3.37347032e-01,\n",
       "         9.81587510e-01, -6.85660199e-01,  1.19183893e+00,\n",
       "        -1.10586394e-01,  4.25157162e-01],\n",
       "       [-1.13201049e+00,  4.26526653e-01, -5.41514230e-01,\n",
       "        -2.10161144e-02,  1.83764084e+00, -6.88150332e-01,\n",
       "        -3.72937137e-01, -1.03339193e+00],\n",
       "       [-2.37956033e-01, -5.63072274e-01,  2.75154562e-01,\n",
       "        -1.27427064e+00, -6.85660199e-01, -2.94368797e-01,\n",
       "        -1.05386997e+00, -8.96248720e-02],\n",
       "       [ 9.54116578e-01,  2.06554988e+00, -9.49848626e-01,\n",
       "         7.93599330e-01,  2.71342573e+00,  2.64546930e-01,\n",
       "         1.02430165e+00,  8.19691392e-02],\n",
       "       [-2.37956033e-01,  1.63260035e+00,  4.79321760e-01,\n",
       "         1.16957569e+00,  9.18500254e-01,  2.51844300e-01,\n",
       "         1.44877926e+00, -1.75421878e-01],\n",
       "       [ 1.84817104e+00, -8.10472006e-01,  1.73070963e-01,\n",
       "        -1.46341567e-01, -6.85660199e-01, -1.10733713e+00,\n",
       "         3.43368825e-01,  1.96950326e+00],\n",
       "       [-8.33992338e-01, -3.77522475e-01, -4.39430631e-01,\n",
       "         1.60821477e+00,  8.57802290e-01,  4.67789013e-01,\n",
       "        -1.87228184e-01, -7.76000917e-01],\n",
       "       [ 3.58080273e-01, -7.17697107e-01,  3.77238161e-01,\n",
       "         4.17622971e-01, -6.85660199e-01,  4.80491643e-01,\n",
       "        -2.96295347e-01,  1.62631524e+00],\n",
       "       [ 6.00621200e-02, -1.15064664e+00,  8.87656156e-01,\n",
       "        -8.36788409e-02, -6.85660199e-01, -3.19774057e-01,\n",
       "        -4.76108778e-01,  8.19691392e-02],\n",
       "       [-8.33992338e-01, -1.91972677e-01, -1.33179834e-01,\n",
       "         9.81587510e-01,  1.04856732e+00,  7.98057397e-01,\n",
       "        -5.58646090e-01, -1.03339193e+00],\n",
       "       [-8.33992338e-01,  8.90401150e-01, -3.10962348e-02,\n",
       "         5.42948424e-01,  4.15574274e-01, -3.19774057e-01,\n",
       "        -3.81780421e-01,  7.68345184e-01],\n",
       "       [ 3.58080273e-01, -9.91977771e-02,  8.87656156e-01,\n",
       "         6.05611151e-01,  2.24809247e-01,  9.25083698e-01,\n",
       "        -6.70661015e-01,  7.68345184e-01],\n",
       "       [-8.33992338e-01, -2.84747576e-01,  1.29599055e+00,\n",
       "        -1.27427064e+00, -6.85660199e-01,  1.24817998e-01,\n",
       "        -6.29392358e-01,  1.02573620e+00],\n",
       "       [ 6.00621200e-02, -2.53822609e-01,  4.79321760e-01,\n",
       "         1.23223842e+00, -6.85660199e-01,  9.63191589e-01,\n",
       "        -7.14877432e-01,  4.25157162e-01],\n",
       "       [-8.33992338e-01, -1.30122744e-01,  4.79321760e-01,\n",
       "         5.42948424e-01,  8.75144566e-01,  5.44004793e-01,\n",
       "         5.15404702e-02, -6.90203911e-01],\n",
       "       [-1.13201049e+00,  6.43001418e-01,  7.85572557e-01,\n",
       "         3.54960245e-01, -6.85660199e-01,  7.40074776e-02,\n",
       "        -1.34168483e-01, -9.47594928e-01],\n",
       "       [-5.35974185e-01,  1.69445028e+00,  9.89739755e-01,\n",
       "        -1.27427064e+00, -6.85660199e-01, -1.13274239e+00,\n",
       "        -4.49578927e-01, -9.47594928e-01],\n",
       "       [-5.35974185e-01, -8.72321939e-01, -8.47765027e-01,\n",
       "        -1.27427064e+00, -6.85660199e-01, -2.18153016e-01,\n",
       "        -9.94914742e-01, -9.47594928e-01],\n",
       "       [-2.37956033e-01,  3.02826787e-01,  4.79321760e-01,\n",
       "         1.66972065e-01, -6.40330160e-04, -4.34097729e-01,\n",
       "        -4.58422211e-01,  8.19691392e-02],\n",
       "       [ 1.25213473e+00, -6.42287765e-03,  8.87656156e-01,\n",
       "        -1.27427064e+00, -6.85660199e-01, -4.34097729e-01,\n",
       "        -6.47078925e-01, -9.47594928e-01],\n",
       "       [-5.35974185e-01,  1.66352531e+00,  9.89739755e-01,\n",
       "         1.04425024e+00,  3.54876311e-01,  1.61102573e+00,\n",
       "         4.93704645e-01, -7.76000917e-01],\n",
       "       [-5.35974185e-01, -4.39372408e-01, -6.43597829e-01,\n",
       "         4.17622971e-01,  7.45077502e-01, -3.57881948e-01,\n",
       "        -1.54802811e-01, -9.47594928e-01],\n",
       "       [-5.35974185e-01, -4.70297375e-01,  3.26196362e-01,\n",
       "        -1.27427064e+00, -6.85660199e-01, -1.08193187e+00,\n",
       "         2.40197185e-01,  1.71211225e+00],\n",
       "       [ 6.00621200e-02, -7.79547040e-01, -4.39430631e-01,\n",
       "         7.30936604e-01, -6.85660199e-01,  4.55086382e-01,\n",
       "        -5.73384896e-01, -4.32812894e-01],\n",
       "       [-1.13201049e+00,  1.79126921e-01,  8.87656156e-01,\n",
       "         4.17622971e-01,  3.54876311e-01, -5.61124030e-01,\n",
       "         1.07547932e-01, -1.03339193e+00],\n",
       "       [ 1.25213473e+00, -1.70729603e+00,  1.73070963e-01,\n",
       "         1.66972065e-01, -6.85660199e-01,  2.31969569e-02,\n",
       "         3.58107631e-01,  7.68345184e-01],\n",
       "       [-5.35974185e-01, -6.55847174e-01, -4.39430631e-01,\n",
       "        -2.09004294e-01,  7.01721814e-01,  6.07517944e-01,\n",
       "        -7.52132598e-02, -1.03339193e+00],\n",
       "       [-8.33992338e-01, -5.63072274e-01,  2.75154562e-01,\n",
       "        -1.27427064e+00, -6.85660199e-01,  9.75894219e-01,\n",
       "        -5.46855046e-01,  7.68345184e-01],\n",
       "       [ 2.14618919e+00, -6.42287765e-03,  5.81405359e-01,\n",
       "         1.04425024e+00,  6.15010438e-01,  1.33156786e+00,\n",
       "         9.03443446e-01,  1.28312722e+00],\n",
       "       [-2.37956033e-01, -5.63072274e-01, -1.25609942e+00,\n",
       "        -2.10161144e-02,  1.29426734e-01, -1.29234605e-01,\n",
       "        -2.31444601e-01, -6.04406906e-01],\n",
       "       [-8.33992338e-01, -3.46597509e-01, -5.41514230e-01,\n",
       "        -1.46341567e-01,  3.20191760e-01, -4.21395099e-01,\n",
       "        -7.64989372e-01, -9.47594928e-01],\n",
       "       [ 1.55015288e+00,  6.12076452e-01,  1.29599055e+00,\n",
       "        -1.27427064e+00, -6.85660199e-01,  1.12115368e-01,\n",
       "         7.53107627e-01,  1.02573620e+00],\n",
       "       [ 2.74222549e+00,  1.01410102e+00,  9.89739755e-01,\n",
       "         1.04425024e+00,  5.28299062e-01,  1.11562315e+00,\n",
       "         2.05012254e+00,  5.10954167e-01],\n",
       "       [ 2.44420734e+00, -6.24922207e-01,  7.85572557e-01,\n",
       "         7.93599330e-01,  2.24809247e-01, -2.30855646e-01,\n",
       "         2.79583809e-02,  1.11153321e+00],\n",
       "       [-8.33992338e-01,  8.28551217e-01,  1.29599055e+00,\n",
       "         1.29490114e+00, -6.85660199e-01,  2.22075197e+00,\n",
       "        -3.55250570e-01, -5.18609900e-01],\n",
       "       [-8.33992338e-01, -1.21249657e+00,  2.75154562e-01,\n",
       "         1.29490114e+00, -1.91405357e-01,  1.83967307e+00,\n",
       "         1.82019717e+00, -8.96248720e-02],\n",
       "       [-2.37956033e-01,  2.06554988e+00,  7.09873642e-02,\n",
       "         1.04309339e-01,  1.04856732e+00,  5.82112684e-01,\n",
       "        -2.07862512e-01,  2.53563150e-01],\n",
       "       [ 6.56098425e-01,  1.29242571e+00, -3.37347032e-01,\n",
       "        -1.27427064e+00, -6.85660199e-01, -9.54905565e-01,\n",
       "        -8.85847579e-01,  1.45472123e+00]])"
      ]
     },
     "execution_count": 20,
     "metadata": {},
     "output_type": "execute_result"
    }
   ],
   "source": [
    "testData"
   ]
  },
  {
   "cell_type": "code",
   "execution_count": 21,
   "metadata": {},
   "outputs": [
    {
     "data": {
      "text/plain": [
       "LogisticRegression()"
      ]
     },
     "execution_count": 21,
     "metadata": {},
     "output_type": "execute_result"
    }
   ],
   "source": [
    "diabetesCheck = LogisticRegression()\n",
    "diabetesCheck.fit(trainData, trainLabel)"
   ]
  },
  {
   "cell_type": "code",
   "execution_count": 22,
   "metadata": {},
   "outputs": [
    {
     "name": "stdout",
     "output_type": "stream",
     "text": [
      "78.0 %\n"
     ]
    }
   ],
   "source": [
    "accuracy = diabetesCheck.score(testData, testLabel)\n",
    "print(accuracy * 100, \"%\")"
   ]
  },
  {
   "cell_type": "code",
   "execution_count": 23,
   "metadata": {},
   "outputs": [
    {
     "data": {
      "text/plain": [
       "LogisticRegression()"
      ]
     },
     "execution_count": 23,
     "metadata": {},
     "output_type": "execute_result"
    }
   ],
   "source": [
    "diabetesCheck"
   ]
  },
  {
   "cell_type": "code",
   "execution_count": 24,
   "metadata": {},
   "outputs": [
    {
     "data": {
      "text/html": [
       "<div>\n",
       "<style scoped>\n",
       "    .dataframe tbody tr th:only-of-type {\n",
       "        vertical-align: middle;\n",
       "    }\n",
       "\n",
       "    .dataframe tbody tr th {\n",
       "        vertical-align: top;\n",
       "    }\n",
       "\n",
       "    .dataframe thead th {\n",
       "        text-align: right;\n",
       "    }\n",
       "</style>\n",
       "<table border=\"1\" class=\"dataframe\">\n",
       "  <thead>\n",
       "    <tr style=\"text-align: right;\">\n",
       "      <th></th>\n",
       "      <th>Pregnancies</th>\n",
       "      <th>Glucose</th>\n",
       "      <th>BloodPressure</th>\n",
       "      <th>SkinThickness</th>\n",
       "      <th>Insulin</th>\n",
       "      <th>BMI</th>\n",
       "      <th>DiabetesPedigreeFunction</th>\n",
       "      <th>Age</th>\n",
       "      <th>Outcome</th>\n",
       "    </tr>\n",
       "  </thead>\n",
       "  <tbody>\n",
       "    <tr>\n",
       "      <th>750</th>\n",
       "      <td>4</td>\n",
       "      <td>136</td>\n",
       "      <td>70</td>\n",
       "      <td>0</td>\n",
       "      <td>0</td>\n",
       "      <td>31.2</td>\n",
       "      <td>1.182</td>\n",
       "      <td>22</td>\n",
       "      <td>1</td>\n",
       "    </tr>\n",
       "    <tr>\n",
       "      <th>751</th>\n",
       "      <td>1</td>\n",
       "      <td>121</td>\n",
       "      <td>78</td>\n",
       "      <td>39</td>\n",
       "      <td>74</td>\n",
       "      <td>39.0</td>\n",
       "      <td>0.261</td>\n",
       "      <td>28</td>\n",
       "      <td>0</td>\n",
       "    </tr>\n",
       "    <tr>\n",
       "      <th>752</th>\n",
       "      <td>3</td>\n",
       "      <td>108</td>\n",
       "      <td>62</td>\n",
       "      <td>24</td>\n",
       "      <td>0</td>\n",
       "      <td>26.0</td>\n",
       "      <td>0.223</td>\n",
       "      <td>25</td>\n",
       "      <td>0</td>\n",
       "    </tr>\n",
       "    <tr>\n",
       "      <th>753</th>\n",
       "      <td>0</td>\n",
       "      <td>181</td>\n",
       "      <td>88</td>\n",
       "      <td>44</td>\n",
       "      <td>510</td>\n",
       "      <td>43.3</td>\n",
       "      <td>0.222</td>\n",
       "      <td>26</td>\n",
       "      <td>1</td>\n",
       "    </tr>\n",
       "    <tr>\n",
       "      <th>754</th>\n",
       "      <td>8</td>\n",
       "      <td>154</td>\n",
       "      <td>78</td>\n",
       "      <td>32</td>\n",
       "      <td>0</td>\n",
       "      <td>32.4</td>\n",
       "      <td>0.443</td>\n",
       "      <td>45</td>\n",
       "      <td>1</td>\n",
       "    </tr>\n",
       "  </tbody>\n",
       "</table>\n",
       "</div>"
      ],
      "text/plain": [
       "     Pregnancies  Glucose  BloodPressure  SkinThickness  Insulin   BMI  \\\n",
       "750            4      136             70              0        0  31.2   \n",
       "751            1      121             78             39       74  39.0   \n",
       "752            3      108             62             24        0  26.0   \n",
       "753            0      181             88             44      510  43.3   \n",
       "754            8      154             78             32        0  32.4   \n",
       "\n",
       "     DiabetesPedigreeFunction  Age  Outcome  \n",
       "750                     1.182   22        1  \n",
       "751                     0.261   28        0  \n",
       "752                     0.223   25        0  \n",
       "753                     0.222   26        1  \n",
       "754                     0.443   45        1  "
      ]
     },
     "execution_count": 24,
     "metadata": {},
     "output_type": "execute_result"
    }
   ],
   "source": [
    "dfCheck.head()"
   ]
  },
  {
   "cell_type": "code",
   "execution_count": 25,
   "metadata": {},
   "outputs": [],
   "source": [
    "sampleData = dfCheck[:1]"
   ]
  },
  {
   "cell_type": "code",
   "execution_count": 26,
   "metadata": {},
   "outputs": [
    {
     "data": {
      "text/html": [
       "<div>\n",
       "<style scoped>\n",
       "    .dataframe tbody tr th:only-of-type {\n",
       "        vertical-align: middle;\n",
       "    }\n",
       "\n",
       "    .dataframe tbody tr th {\n",
       "        vertical-align: top;\n",
       "    }\n",
       "\n",
       "    .dataframe thead th {\n",
       "        text-align: right;\n",
       "    }\n",
       "</style>\n",
       "<table border=\"1\" class=\"dataframe\">\n",
       "  <thead>\n",
       "    <tr style=\"text-align: right;\">\n",
       "      <th></th>\n",
       "      <th>Pregnancies</th>\n",
       "      <th>Glucose</th>\n",
       "      <th>BloodPressure</th>\n",
       "      <th>SkinThickness</th>\n",
       "      <th>Insulin</th>\n",
       "      <th>BMI</th>\n",
       "      <th>DiabetesPedigreeFunction</th>\n",
       "      <th>Age</th>\n",
       "      <th>Outcome</th>\n",
       "    </tr>\n",
       "  </thead>\n",
       "  <tbody>\n",
       "    <tr>\n",
       "      <th>750</th>\n",
       "      <td>4</td>\n",
       "      <td>136</td>\n",
       "      <td>70</td>\n",
       "      <td>0</td>\n",
       "      <td>0</td>\n",
       "      <td>31.2</td>\n",
       "      <td>1.182</td>\n",
       "      <td>22</td>\n",
       "      <td>1</td>\n",
       "    </tr>\n",
       "  </tbody>\n",
       "</table>\n",
       "</div>"
      ],
      "text/plain": [
       "     Pregnancies  Glucose  BloodPressure  SkinThickness  Insulin   BMI  \\\n",
       "750            4      136             70              0        0  31.2   \n",
       "\n",
       "     DiabetesPedigreeFunction  Age  Outcome  \n",
       "750                     1.182   22        1  "
      ]
     },
     "execution_count": 26,
     "metadata": {},
     "output_type": "execute_result"
    }
   ],
   "source": [
    "sampleData"
   ]
  },
  {
   "cell_type": "code",
   "execution_count": 28,
   "metadata": {},
   "outputs": [
    {
     "data": {
      "text/plain": [
       "array([[  4.   , 136.   ,  70.   ,   0.   ,   0.   ,  31.2  ,   1.182,\n",
       "         22.   ]])"
      ]
     },
     "execution_count": 28,
     "metadata": {},
     "output_type": "execute_result"
    }
   ],
   "source": [
    "sampleDataFeatures = np.asarray(sampleData.drop('Outcome',1))\n",
    "sampleDataFeatures"
   ]
  },
  {
   "cell_type": "code",
   "execution_count": 29,
   "metadata": {},
   "outputs": [],
   "source": [
    "sampleDataFeatures = (sampleDataFeatures - means)/stds"
   ]
  },
  {
   "cell_type": "code",
   "execution_count": 30,
   "metadata": {},
   "outputs": [
    {
     "data": {
      "text/plain": [
       "array([[ 0.06006212,  0.48837659,  0.07098736, -1.27427064, -0.6856602 ,\n",
       "        -0.07842408,  2.07370463, -0.94759493]])"
      ]
     },
     "execution_count": 30,
     "metadata": {},
     "output_type": "execute_result"
    }
   ],
   "source": [
    "sampleDataFeatures"
   ]
  },
  {
   "cell_type": "code",
   "execution_count": 52,
   "metadata": {},
   "outputs": [
    {
     "data": {
      "text/plain": [
       "['diabeteseModel.pkl']"
      ]
     },
     "execution_count": 52,
     "metadata": {},
     "output_type": "execute_result"
    }
   ],
   "source": [
    "import joblib\n",
    "joblib.dump([diabetesCheck, means, stds], 'diabeteseModel.pkl')\n"
   ]
  },
  {
   "cell_type": "code",
   "execution_count": 53,
   "metadata": {},
   "outputs": [
    {
     "name": "stdout",
     "output_type": "stream",
     "text": [
      "accuracy =  78.0 %\n"
     ]
    }
   ],
   "source": [
    "diabetesLoadedModel, means, stds = joblib.load('diabeteseModel.pkl')\n",
    "accuracyModel = diabetesLoadedModel.score(testData, testLabel)\n",
    "print(\"accuracy = \",accuracyModel * 100,\"%\")"
   ]
  },
  {
   "cell_type": "code",
   "execution_count": 54,
   "metadata": {},
   "outputs": [
    {
     "name": "stdout",
     "output_type": "stream",
     "text": [
      "Probability: [[0.44077634 0.55922366]]\n",
      "prediction: [1]\n"
     ]
    }
   ],
   "source": [
    "predictionProbability = diabetesLoadedModel.predict_proba(sampleDataFeatures)\n",
    "prediction = diabetesLoadedModel.predict(sampleDataFeatures)\n",
    "print('Probability:', predictionProbability)\n",
    "print('prediction:', prediction)"
   ]
  },
  {
   "cell_type": "code",
   "execution_count": 33,
   "metadata": {},
   "outputs": [],
   "source": [
    "import sklearn\n",
    "from sklearn.neural_network import MLPClassifier"
   ]
  },
  {
   "cell_type": "code",
   "execution_count": 34,
   "metadata": {},
   "outputs": [],
   "source": [
    "x=df[[\"Glucose\"]]\n",
    "y=df[[\"Outcome\"]]"
   ]
  },
  {
   "cell_type": "code",
   "execution_count": 35,
   "metadata": {},
   "outputs": [],
   "source": [
    "from sklearn.model_selection import train_test_split"
   ]
  },
  {
   "cell_type": "code",
   "execution_count": 36,
   "metadata": {},
   "outputs": [],
   "source": [
    "x_train,x_test,y_train,y_test=train_test_split(x,y, test_size=0.3)"
   ]
  },
  {
   "cell_type": "code",
   "execution_count": 37,
   "metadata": {},
   "outputs": [
    {
     "data": {
      "text/plain": [
       "(537, 1)"
      ]
     },
     "execution_count": 37,
     "metadata": {},
     "output_type": "execute_result"
    }
   ],
   "source": [
    "x_train.shape"
   ]
  },
  {
   "cell_type": "code",
   "execution_count": 38,
   "metadata": {},
   "outputs": [
    {
     "data": {
      "text/plain": [
       "(537, 1)"
      ]
     },
     "execution_count": 38,
     "metadata": {},
     "output_type": "execute_result"
    }
   ],
   "source": [
    "y_train.shape"
   ]
  },
  {
   "cell_type": "code",
   "execution_count": 39,
   "metadata": {},
   "outputs": [],
   "source": [
    "clf=MLPClassifier(hidden_layer_sizes=(10,10),solver=\"lbfgs\", alpha=1e-5)"
   ]
  },
  {
   "cell_type": "code",
   "execution_count": 40,
   "metadata": {},
   "outputs": [
    {
     "data": {
      "text/plain": [
       "MLPClassifier(alpha=1e-05, hidden_layer_sizes=(10, 10), solver='lbfgs')"
      ]
     },
     "execution_count": 40,
     "metadata": {},
     "output_type": "execute_result"
    }
   ],
   "source": [
    "clf\n"
   ]
  },
  {
   "cell_type": "code",
   "execution_count": 41,
   "metadata": {},
   "outputs": [
    {
     "name": "stderr",
     "output_type": "stream",
     "text": [
      "F:\\anaconda\\lib\\site-packages\\sklearn\\utils\\validation.py:73: DataConversionWarning: A column-vector y was passed when a 1d array was expected. Please change the shape of y to (n_samples, ), for example using ravel().\n",
      "  return f(**kwargs)\n"
     ]
    },
    {
     "data": {
      "text/plain": [
       "MLPClassifier(alpha=1e-05, hidden_layer_sizes=(10, 10), solver='lbfgs')"
      ]
     },
     "execution_count": 41,
     "metadata": {},
     "output_type": "execute_result"
    }
   ],
   "source": [
    "clf.fit(x,y)"
   ]
  },
  {
   "cell_type": "code",
   "execution_count": 42,
   "metadata": {},
   "outputs": [
    {
     "data": {
      "text/plain": [
       "0"
      ]
     },
     "execution_count": 42,
     "metadata": {},
     "output_type": "execute_result"
    }
   ],
   "source": [
    "y_pred=clf.predict(x_train)\n",
    "y_pred[1]"
   ]
  },
  {
   "cell_type": "code",
   "execution_count": 58,
   "metadata": {},
   "outputs": [
    {
     "name": "stdout",
     "output_type": "stream",
     "text": [
      "[0]\n"
     ]
    }
   ],
   "source": [
    "a=clf.predict(([[185]]))\n",
    "print(a)"
   ]
  },
  {
   "cell_type": "code",
   "execution_count": 46,
   "metadata": {},
   "outputs": [
    {
     "name": "stdout",
     "output_type": "stream",
     "text": [
      "You are diabetic free\n"
     ]
    }
   ],
   "source": [
    "if a==0:\n",
    "    print(\"You are diabetic free\")\n",
    "else:\n",
    "    print(\"You have diabetic\")"
   ]
  },
  {
   "cell_type": "code",
   "execution_count": 47,
   "metadata": {},
   "outputs": [],
   "source": [
    "y_pred=clf.predict(x_test)"
   ]
  },
  {
   "cell_type": "code",
   "execution_count": 48,
   "metadata": {},
   "outputs": [
    {
     "name": "stdout",
     "output_type": "stream",
     "text": [
      "0.5930735930735931\n"
     ]
    }
   ],
   "source": [
    "from sklearn.metrics import accuracy_score\n",
    "print(accuracy_score(y_test,y_pred))"
   ]
  },
  {
   "cell_type": "code",
   "execution_count": null,
   "metadata": {},
   "outputs": [],
   "source": []
  }
 ],
 "metadata": {
  "kernelspec": {
   "display_name": "Python 3",
   "language": "python",
   "name": "python3"
  },
  "language_info": {
   "codemirror_mode": {
    "name": "ipython",
    "version": 3
   },
   "file_extension": ".py",
   "mimetype": "text/x-python",
   "name": "python",
   "nbconvert_exporter": "python",
   "pygments_lexer": "ipython3",
   "version": "3.8.3"
  }
 },
 "nbformat": 4,
 "nbformat_minor": 4
}
